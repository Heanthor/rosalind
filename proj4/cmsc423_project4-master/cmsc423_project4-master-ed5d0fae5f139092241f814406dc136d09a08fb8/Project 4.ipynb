{
 "cells": [
  {
   "cell_type": "markdown",
   "metadata": {},
   "source": [
    "```Reed Trevelyan\n",
    "December 11, 2015\n",
    "CMSC423\n",
    "Project 4```"
   ]
  },
  {
   "cell_type": "markdown",
   "metadata": {},
   "source": [
    "##Question 1\n",
    "In the reads provided, is there enough evidence of a SNP at position 275 in the amino acid sequence, corresponding to a mutation from Histidine to Tyrosine?\n",
    "\n",
    "Histidine has the RNA codons CAU and CAC, while Tyrosine has the RNA codons UAU and UAC. So, a mutation in the first nucleotide that makes up the codon, from C to U, could trigger the change in amino acid being coded for."
   ]
  },
  {
   "cell_type": "markdown",
   "metadata": {},
   "source": [
    "Through use of the pileup.py script provided, a significant number of SNPs from C to T are located at position 822 in the genome represented by the reads:\n",
    "\n",
    "```789 G C:1\n",
    "808 A G:1\n",
    "810 G C:1\n",
    "816 A C:1\n",
    "818 T G:1\n",
    "822 C T:10\n",
    "831 G C:1\n",
    "837 T G:1\n",
    "841 G T:1\n",
    "842 T C:1\n",
    "843 T G:1\n",
    "845 T C:1```\n",
    "\n",
    "In RNA, T (Thymine) is represented by U (Uracil), which means that at position 822 in the read genome, a significant number of reads indicate a mutation from C to U in the corresponding mRNA."
   ]
  },
  {
   "cell_type": "code",
   "execution_count": 3,
   "metadata": {
    "collapsed": false
   },
   "outputs": [
    {
     "name": "stdout",
     "output_type": "stream",
     "text": [
      "Original sequence: H\n",
      "Read sequence: Y\n"
     ]
    }
   ],
   "source": [
    "from pileup_user import read_fa_file\n",
    "from Bio import Seq\n",
    "\n",
    "reference = read_fa_file(\"data/reference.fa\")\n",
    "\n",
    "print \"Original sequence: \" + Seq.translate(reference)[274]\n",
    "\n",
    "mutated_reference = \"\"\n",
    "for i, x in enumerate(reference):\n",
    "    if i == 822:\n",
    "        mutated_reference += \"T\"\n",
    "    else:\n",
    "        mutated_reference += x\n",
    "\n",
    "print \"Read sequence: \" + Seq.translate(mutated_reference)[274]"
   ]
  },
  {
   "cell_type": "markdown",
   "metadata": {},
   "source": [
    "Position 822 in the genome corresponds to the beginning of the 275th codon (1-based indexing), represented by 274 in the above code. Based on this, I can conclude the reads do correspond to a genome with the H275Y mutation."
   ]
  }
 ],
 "metadata": {
  "kernelspec": {
   "display_name": "Python 2",
   "language": "python",
   "name": "python2"
  },
  "language_info": {
   "codemirror_mode": {
    "name": "ipython",
    "version": 2
   },
   "file_extension": ".py",
   "mimetype": "text/x-python",
   "name": "python",
   "nbconvert_exporter": "python",
   "pygments_lexer": "ipython2",
   "version": "2.7.10"
  }
 },
 "nbformat": 4,
 "nbformat_minor": 0
}
